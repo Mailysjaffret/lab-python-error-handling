{
 "cells": [
  {
   "cell_type": "markdown",
   "id": "25d7736c-ba17-4aff-b6bb-66eba20fbf4e",
   "metadata": {},
   "source": [
    "# Lab | Error Handling"
   ]
  },
  {
   "cell_type": "markdown",
   "id": "bc99b386-7508-47a0-bcdb-d969deaf6c8b",
   "metadata": {},
   "source": [
    "## Exercise: Error Handling for Managing Customer Orders\n",
    "\n",
    "The implementation of your code for managing customer orders assumes that the user will always enter a valid input. \n",
    "\n",
    "For example, we could modify the `initialize_inventory` function to include error handling.\n",
    "   - If the user enters an invalid quantity (e.g., a negative value or a non-numeric value), display an error message and ask them to re-enter the quantity for that product.\n",
    "   - Use a try-except block to handle the error and continue prompting the user until a valid quantity is entered.\n",
    "\n",
    "```python\n",
    "# Step 1: Define the function for initializing the inventory with error handling\n",
    "def initialize_inventory(products):\n",
    "    inventory = {}\n",
    "    for product in products:\n",
    "        valid_quantity = False\n",
    "        while not valid_quantity:\n",
    "            try:\n",
    "                quantity = int(input(f\"Enter the quantity of {product}s available: \"))\n",
    "                if quantity < 0:\n",
    "                    raise ValueError(\"Invalid quantity! Please enter a non-negative value.\")\n",
    "                valid_quantity = True\n",
    "            except ValueError as error:\n",
    "                print(f\"Error: {error}\")\n",
    "        inventory[product] = quantity\n",
    "    return inventory\n",
    "\n",
    "# Or, in another way:\n",
    "\n",
    "def initialize_inventory(products):\n",
    "    inventory = {}\n",
    "    for product in products:\n",
    "        valid_input = False\n",
    "        while not valid_input:\n",
    "            try:\n",
    "                quantity = int(input(f\"Enter the quantity of {product}s available: \"))\n",
    "                if quantity >= 0:\n",
    "                    inventory[product] = quantity\n",
    "                    valid_input = True\n",
    "                else:\n",
    "                    print(\"Quantity cannot be negative. Please enter a valid quantity.\")\n",
    "            except ValueError:\n",
    "                print(\"Invalid input. Please enter a valid quantity.\")\n",
    "    return inventory\n",
    "```\n",
    "\n",
    "Let's enhance your code by implementing error handling to handle invalid inputs.\n",
    "\n",
    "Follow the steps below to complete the exercise:\n",
    "\n",
    "2. Modify the `calculate_total_price` function to include error handling.\n",
    "   - If the user enters an invalid price (e.g., a negative value or a non-numeric value), display an error message and ask them to re-enter the price for that product.\n",
    "   - Use a try-except block to handle the error and continue prompting the user until a valid price is entered.\n",
    "\n",
    "3. Modify the `get_customer_orders` function to include error handling.\n",
    "   - If the user enters an invalid number of orders (e.g., a negative value or a non-numeric value), display an error message and ask them to re-enter the number of orders.\n",
    "   - If the user enters an invalid product name (e.g., a product name that is not in the inventory), or that doesn't have stock available, display an error message and ask them to re-enter the product name. *Hint: you will need to pass inventory as a parameter*\n",
    "   - Use a try-except block to handle the error and continue prompting the user until a valid product name is entered.\n",
    "\n",
    "4. Test your code by running the program and deliberately entering invalid quantities and product names. Make sure the error handling mechanism works as expected.\n"
   ]
  },
  {
   "cell_type": "code",
   "execution_count": 32,
   "id": "1f6f77c1-3f29-4681-919a-5adaa08262eb",
   "metadata": {},
   "outputs": [
    {
     "name": "stdin",
     "output_type": "stream",
     "text": [
      "Enter the quantity of t-shirts available:  -2\n"
     ]
    },
    {
     "name": "stdout",
     "output_type": "stream",
     "text": [
      "Error: Invalid quantity! Please enter a non-negative value.\n"
     ]
    },
    {
     "name": "stdin",
     "output_type": "stream",
     "text": [
      "Enter the quantity of t-shirts available:  3\n",
      "Enter the quantity of mugs available:  4\n",
      "Enter the quantity of hats available:  21\n",
      "Enter the quantity of books available:  5\n",
      "Enter the quantity of keychains available:  2\n"
     ]
    },
    {
     "name": "stdout",
     "output_type": "stream",
     "text": [
      "Initial Inventory: {'t-shirt': 3, 'mug': 4, 'hat': 21, 'book': 5, 'keychain': 2}\n"
     ]
    },
    {
     "name": "stdin",
     "output_type": "stream",
     "text": [
      "Enter the number of customer orders:  p\n"
     ]
    },
    {
     "name": "stdout",
     "output_type": "stream",
     "text": [
      "Please enter a valid integer for the number of orders.\n"
     ]
    },
    {
     "name": "stdin",
     "output_type": "stream",
     "text": [
      "Enter the number of customer orders:  2\n",
      "Enter the name of a product 1 that a customer wants to order:  hat\n",
      "Enter the name of a product 2 that a customer wants to order:  hh\n"
     ]
    },
    {
     "name": "stdout",
     "output_type": "stream",
     "text": [
      "hh is not available in the product list.\n"
     ]
    },
    {
     "name": "stdin",
     "output_type": "stream",
     "text": [
      "Enter the name of a product 2 that a customer wants to order:  bok\n"
     ]
    },
    {
     "name": "stdout",
     "output_type": "stream",
     "text": [
      "bok is not available in the product list.\n"
     ]
    },
    {
     "name": "stdin",
     "output_type": "stream",
     "text": [
      "Enter the name of a product 2 that a customer wants to order:  book\n"
     ]
    },
    {
     "name": "stdout",
     "output_type": "stream",
     "text": [
      "Customer Orders: {'hat', 'book'}\n",
      "Order Statistics:\n",
      "Total Products Ordered: 2\n",
      "Percentage of Products Ordered: 40.0\n"
     ]
    },
    {
     "name": "stdin",
     "output_type": "stream",
     "text": [
      "Enter the price of hat:  y\n"
     ]
    },
    {
     "name": "stdout",
     "output_type": "stream",
     "text": [
      "Invalid input. Please enter a numeric value for the price.\n"
     ]
    },
    {
     "name": "stdin",
     "output_type": "stream",
     "text": [
      "Enter the price of hat:  23\n",
      "Enter the price of book:  21\n"
     ]
    },
    {
     "name": "stdout",
     "output_type": "stream",
     "text": [
      "Total Price: 44.0\n",
      "Updated Inventory:\n",
      "t-shirt: 3\n",
      "mug: 4\n",
      "hat: 20\n",
      "book: 4\n",
      "keychain: 2\n"
     ]
    }
   ],
   "source": [
    "products = [\"t-shirt\", \"mug\", \"hat\", \"book\", \"keychain\"]\n",
    "\n",
    "def initialize_inventory(products):\n",
    "    inventory = {}\n",
    "    for product in products:\n",
    "        valid_quantity = False\n",
    "        while not valid_quantity:\n",
    "            try:\n",
    "                quantity = int(input(f\"Enter the quantity of {product}s available: \"))\n",
    "                if quantity < 0:\n",
    "                    raise ValueError(\"Invalid quantity! Please enter a non-negative value.\")\n",
    "                valid_quantity = True\n",
    "            except ValueError as error:\n",
    "                print(f\"Error: {error}\")\n",
    "        inventory[product] = quantity\n",
    "    return inventory\n",
    "\n",
    "inventory = initialize_inventory(products)\n",
    "print(\"Initial Inventory:\", inventory)\n",
    "\n",
    "def get_customer_orders(products):\n",
    "    customer_orders = set()\n",
    "    while True:\n",
    "        try:\n",
    "            num_orders = int(input(\"Enter the number of customer orders: \"))\n",
    "            if num_orders < 1:\n",
    "                print(\"Number of orders must be at least 1.\")\n",
    "                continue\n",
    "            break\n",
    "\n",
    "        except ValueError:\n",
    "            print(\"Please enter a valid integer for the number of orders.\")\n",
    "\n",
    "    for i in range(num_orders):\n",
    "         while True:\n",
    "             order = input(f\"Enter the name of a product {i + 1} that a customer wants to order: \").lower()\n",
    "             if order not in products:\n",
    "                   print(f\"{order} is not available in the product list.\")\n",
    "             elif inventory.get(order, 0) <=0:\n",
    "                 print(f\"{order} is out of stock.\")                 \n",
    "             else:\n",
    "                customer_orders.add(order)\n",
    "                break\n",
    "                \n",
    "    return customer_orders\n",
    "    \n",
    "customer_orders = get_customer_orders(products)\n",
    "print(\"Customer Orders:\", customer_orders)\n",
    "\n",
    "\n",
    "def update_inventory(customer_orders, inventory):\n",
    "    for product in customer_orders:\n",
    "        if inventory.get(product, 0) > 0:\n",
    "            inventory[product] -=1\n",
    "        if inventory[product] == 0:\n",
    "            del inventory[product]\n",
    "\n",
    "update_inventory(customer_orders, inventory)\n",
    "\n",
    "def calculate_total_price(customer_orders):\n",
    "    prices = {}\n",
    "    for product in customer_orders:\n",
    "        while True:\n",
    "            try:\n",
    "                price_input = input(f\"Enter the price of {product}: \")\n",
    "                price = float(price_input)\n",
    "                if price < 0:\n",
    "                    print(\"Price cannot be negative. Please enter a valid price.\")\n",
    "                else:\n",
    "                    prices[product] = price\n",
    "                    break  #exit the loop when a valid price is entered\n",
    "\n",
    "            except ValueError:\n",
    "                print(\"Invalid input. Please enter a numeric value for the price.\")\n",
    "    \n",
    "    total_price = sum(prices.values())\n",
    "    return total_price\n",
    "\n",
    "def calculate_order_statistics(customer_orders, products):\n",
    "    total_products_ordered = len(customer_orders)\n",
    "    percentage_ordered = (total_products_ordered / len(products)) * 100\n",
    "    return total_products_ordered, percentage_ordered\n",
    "\n",
    "def print_order_statistics(order_statistics):\n",
    "    total_products_ordered, percentage_ordered = order_statistics\n",
    "    print(\"Order Statistics:\")\n",
    "    print(\"Total Products Ordered:\", total_products_ordered)\n",
    "    print(\"Percentage of Products Ordered:\", percentage_ordered)\n",
    "\n",
    "order_statistics = calculate_order_statistics(customer_orders, products)\n",
    "print_order_statistics(order_statistics)\n",
    "\n",
    "def print_updated_inventory(inventory):\n",
    "    print(\"Updated Inventory:\")\n",
    "    for product, quantity in inventory.items():\n",
    "        print(f\"{product}: {quantity}\")\n",
    "\n",
    "total_price = calculate_total_price(customer_orders)\n",
    "print(\"Total Price:\", total_price)\n",
    "\n",
    "print_updated_inventory(inventory)"
   ]
  },
  {
   "cell_type": "code",
   "execution_count": null,
   "id": "cc796a3a-d7f8-4a0e-941e-ae4f9e02177e",
   "metadata": {},
   "outputs": [],
   "source": []
  }
 ],
 "metadata": {
  "kernelspec": {
   "display_name": "Python 3 (ipykernel)",
   "language": "python",
   "name": "python3"
  },
  "language_info": {
   "codemirror_mode": {
    "name": "ipython",
    "version": 3
   },
   "file_extension": ".py",
   "mimetype": "text/x-python",
   "name": "python",
   "nbconvert_exporter": "python",
   "pygments_lexer": "ipython3",
   "version": "3.11.5"
  }
 },
 "nbformat": 4,
 "nbformat_minor": 5
}
